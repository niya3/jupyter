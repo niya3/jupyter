{
 "cells": [
  {
   "cell_type": "markdown",
   "metadata": {},
   "source": [
    "# Составные типы\n",
    "##  список, `list`\n",
    "Последовательность объектов, переменной длины, различные типы, изменяемые элементы. Обращение по индексу."
   ]
  },
  {
   "cell_type": "code",
   "execution_count": 23,
   "metadata": {},
   "outputs": [
    {
     "name": "stdout",
     "output_type": "stream",
     "text": [
      "0\n",
      "Feb\n",
      "['J', 'a', 'n', 'u', 'a', 'r', 'y']\n"
     ]
    }
   ],
   "source": [
    "list_1 = [0, 'zero', 1, 'one', 2, 'two', 3, 'three']\n",
    "list_2 = list(('Jan', 'Feb', 'Mar', 'Apr', 'Jun', 'Jul'))\n",
    "list_3 = list('January')\n",
    "print(list_1[0])\n",
    "print(list_2[1])\n",
    "print(list_3)"
   ]
  },
  {
   "cell_type": "code",
   "execution_count": 24,
   "metadata": {},
   "outputs": [
    {
     "name": "stdout",
     "output_type": "stream",
     "text": [
      "['January', 'Febrary']\n"
     ]
    }
   ],
   "source": [
    "winter = list(['January'])\n",
    "winter.append('Febrary')\n",
    "print(winter)"
   ]
  },
  {
   "cell_type": "code",
   "execution_count": 25,
   "metadata": {},
   "outputs": [
    {
     "name": "stdout",
     "output_type": "stream",
     "text": [
      "['January', 'Febrary', 'March']\n"
     ]
    }
   ],
   "source": [
    "winter.append('March')\n",
    "print(winter)"
   ]
  },
  {
   "cell_type": "code",
   "execution_count": 26,
   "metadata": {},
   "outputs": [
    {
     "name": "stdout",
     "output_type": "stream",
     "text": [
      "['Febrary', 'March']\n"
     ]
    }
   ],
   "source": [
    "del(winter[0])\n",
    "print(winter)"
   ]
  },
  {
   "cell_type": "code",
   "execution_count": 27,
   "metadata": {},
   "outputs": [
    {
     "name": "stdout",
     "output_type": "stream",
     "text": [
      "['March']\n"
     ]
    }
   ],
   "source": [
    "winter.remove('Febrary')\n",
    "print(winter)"
   ]
  },
  {
   "cell_type": "code",
   "execution_count": 28,
   "metadata": {},
   "outputs": [
    {
     "data": {
      "text/plain": [
       "[1, 2, 3, 4, 5, [6, 7, 8]]"
      ]
     },
     "execution_count": 28,
     "metadata": {},
     "output_type": "execute_result"
    }
   ],
   "source": [
    "[1, 2, 3] + [4, 5] + [[6, 7, 8]]"
   ]
  },
  {
   "cell_type": "markdown",
   "metadata": {},
   "source": [
    "## кортеж, `typle`\n",
    "\n",
    "Последовательность объектов; фиксированной длины, различные типы, неизменяемые элементы\\*"
   ]
  },
  {
   "cell_type": "code",
   "execution_count": null,
   "metadata": {},
   "outputs": [],
   "source": [
    "tuple_1 = (2, 12, 85, 0, 6)\n",
    "tuple_2 = tuple([3, 14, 15, 9])"
   ]
  },
  {
   "cell_type": "code",
   "execution_count": null,
   "metadata": {},
   "outputs": [],
   "source": [
    "tuple_1"
   ]
  },
  {
   "cell_type": "code",
   "execution_count": null,
   "metadata": {},
   "outputs": [],
   "source": [
    "tuple_2"
   ]
  },
  {
   "cell_type": "markdown",
   "metadata": {},
   "source": [
    "## словарь, `dict`\n",
    "\n",
    "набор пар ключ-значение; уникальный ключ, по которому обращаются. Изменяемой длины"
   ]
  },
  {
   "cell_type": "code",
   "execution_count": 32,
   "metadata": {},
   "outputs": [],
   "source": [
    "holydays = {\"Новый год\": '12.31', \"Папин день рождения\": '12.31', 'День π': \"03.14\"}\n",
    "numbers = dict([(0, 'zero'), (1, 'one'), (2, 'two'), (3, 'three')])\n",
    "rivers_length = dict(oka=1500, kama=1805, volga=3530)"
   ]
  },
  {
   "cell_type": "code",
   "execution_count": 33,
   "metadata": {},
   "outputs": [
    {
     "data": {
      "text/plain": [
       "{'Новый год': '12.31', 'Папин день рождения': '12.31', 'День π': '03.14'}"
      ]
     },
     "execution_count": 33,
     "metadata": {},
     "output_type": "execute_result"
    }
   ],
   "source": [
    "holydays"
   ]
  },
  {
   "cell_type": "code",
   "execution_count": 34,
   "metadata": {},
   "outputs": [
    {
     "data": {
      "text/plain": [
       "{0: 'zero', 1: 'one', 2: 'two', 3: 'three'}"
      ]
     },
     "execution_count": 34,
     "metadata": {},
     "output_type": "execute_result"
    }
   ],
   "source": [
    "numbers"
   ]
  },
  {
   "cell_type": "code",
   "execution_count": 35,
   "metadata": {},
   "outputs": [
    {
     "data": {
      "text/plain": [
       "{'oka': 1501, 'kama': 1805, 'volga': 3530}"
      ]
     },
     "execution_count": 35,
     "metadata": {},
     "output_type": "execute_result"
    }
   ],
   "source": [
    "rivers_length['oka']=1501\n",
    "rivers_length"
   ]
  },
  {
   "cell_type": "code",
   "execution_count": null,
   "metadata": {},
   "outputs": [],
   "source": [
    "## множество, `set`\n",
    "словарь с ключами, но без значений; нельзя обратиться по индексу. изменяемый"
   ]
  },
  {
   "cell_type": "code",
   "execution_count": 38,
   "metadata": {},
   "outputs": [
    {
     "data": {
      "text/plain": [
       "{18, 27, 28, 45, 90}"
      ]
     },
     "execution_count": 38,
     "metadata": {},
     "output_type": "execute_result"
    }
   ],
   "source": [
    "e = set((27, 18, 28, 18, 28, 45, 90, 45))\n",
    "e"
   ]
  },
  {
   "cell_type": "code",
   "execution_count": 39,
   "metadata": {},
   "outputs": [
    {
     "data": {
      "text/plain": [
       "{'04', 18, 27, 28, 45, 52, 90}"
      ]
     },
     "execution_count": 39,
     "metadata": {},
     "output_type": "execute_result"
    }
   ],
   "source": [
    "e.add('04')\n",
    "e.add(52)\n",
    "e"
   ]
  },
  {
   "cell_type": "markdown",
   "metadata": {},
   "source": [
    "* Изменяемость и неизменяемость\n",
    "\n",
    "* Неявное преобразование к логическому типу\n",
    "\n",
    "```python\n",
    "False --- False, None, 0, 0.0, [], (), '', {}\n",
    "```"
   ]
  }
 ],
 "metadata": {
  "kernelspec": {
   "display_name": "Python 3",
   "language": "python",
   "name": "python3"
  },
  "language_info": {
   "codemirror_mode": {
    "name": "ipython",
    "version": 3
   },
   "file_extension": ".py",
   "mimetype": "text/x-python",
   "name": "python",
   "nbconvert_exporter": "python",
   "pygments_lexer": "ipython3",
   "version": "3.6.5"
  }
 },
 "nbformat": 4,
 "nbformat_minor": 2
}
